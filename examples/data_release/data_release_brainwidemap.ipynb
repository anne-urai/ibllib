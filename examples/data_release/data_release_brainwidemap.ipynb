{
 "cells": [
  {
   "cell_type": "markdown",
   "id": "7ceb904d",
   "metadata": {},
   "source": [
    "# Data Release - Brain Wide Map\n",
    "\n",
    "<!--- TODO NS - HB -->"
   ]
  },
  {
   "cell_type": "markdown",
   "id": "ea567308",
   "metadata": {},
   "source": [
    "## Overview of the Data\n",
    "We have released data from XXX Neuropixel recording sessions, across XXX different laboratories, obtained in XXX subjects performing the IBL task. The data comprises both processed and raw data that are arranged into collections (folders).\n",
    "\n",
    "The organisation of the data follows the same structure as for our Reproducible Ephys datasets. Please see [these instructions](https://int-brain-lab.github.io/iblenv/notebooks_external/data_release_repro_ephys.html#Overview-of-the-Data) to download an example dataset for one session, and get familiar with the data structure.\n"
   ]
  },
  {
   "cell_type": "markdown",
   "id": "1c8c8978",
   "metadata": {},
   "source": [
    "## Installation\n",
    "Similarly, please follow the installation instructions from the [Reproducible Ephys datasets page](https://int-brain-lab.github.io/iblenv/notebooks_external/data_release_repro_ephys.html#Installation) as these are the same for accessing the Brainwide map datasets."
   ]
  },
  {
   "cell_type": "markdown",
   "id": "e74ce561",
   "metadata": {},
   "source": [
    "## Getting Started\n",
    "\n",
    "### Exploring data\n",
    "To get a feel for the structure of the data we recommended first downloading the alf data for a single repeated site session and exploring how the data is stored locally on disk. An example alf folder can be downloaded from [here](https://ibl-brain-wide-map-public.s3.amazonaws.com/sample_data/mainenlab/Subjects/ZM_2241/2020-01-30/001/alf_ZM2241_2020-01-30_001.zip) or alternatively, we can use the ONE-api to search for sessions and download the data this way.\n",
    "\n",
    "The sessions that contain data released as part of the brainwide map data release can be found [as for the Repeated Site datasets](https://int-brain-lab.github.io/iblenv/notebooks_external/data_release_repro_ephys.html#Exploring-data), but using the tag name `2022_Q4_IBL_et_al_BWM` :"
   ]
  },
  {
   "cell_type": "code",
   "execution_count": null,
   "id": "8281f2a2",
   "metadata": {
    "ibl_execute": false
   },
   "outputs": [],
   "source": [
    "from one.api import ONE\n",
    "one = ONE(base_url='https://openalyx.internationalbrainlab.org')\n",
    "\n",
    "# Find sessions that have data and are tagged for the repeated site paper\n",
    "rep_site_sessions = one.alyx.rest('sessions', 'list', dataset_types='spikes.times', tag='2022_Q4_IBL_et_al_BWM')\n",
    "# Take the first session\n",
    "example_sess = rep_site_sessions[0]\n",
    "# Each session has a unique experiment id\n",
    "eid = example_sess['id']"
   ]
  },
  {
   "cell_type": "markdown",
   "id": "922c3d91",
   "metadata": {},
   "source": [
    "From there, follow the instructions as explained in the [Repeated Site datasets page](https://int-brain-lab.github.io/iblenv/notebooks_external/data_release_repro_ephys.html#Exploring-data) to download all files in the **alf** collection and more."
   ]
  },
  {
   "cell_type": "markdown",
   "id": "7c151244",
   "metadata": {
    "collapsed": false,
    "pycharm": {
     "name": "#%% md\n"
    }
   },
   "source": [
    "## Information and troubleshooting\n",
    "- Issues with the data? Post an issue here: <https://github.com/int-brain-lab/iblenv/issues>\n",
    "- General questions about the dataset or paper  Email: <info@internationalbrainlab.org>"
   ]
  }
 ],
 "metadata": {
  "celltoolbar": "Edit Metadata",
  "kernelspec": {
   "display_name": "Python [conda env:iblenv] *",
   "language": "python",
   "name": "conda-env-iblenv-py"
  },
  "language_info": {
   "codemirror_mode": {
    "name": "ipython",
    "version": 3
   },
   "file_extension": ".py",
   "mimetype": "text/x-python",
   "name": "python",
   "nbconvert_exporter": "python",
   "pygments_lexer": "ipython3",
   "version": "3.9.7"
  }
 },
 "nbformat": 4,
 "nbformat_minor": 5
}