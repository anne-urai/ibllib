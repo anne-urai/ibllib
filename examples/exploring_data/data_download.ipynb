{
 "cells": [
  {
   "cell_type": "markdown",
   "source": [
    "\n",
    "\n",
    "# Download the public datasets\n",
    "\n",
    "To start downloading and performing analysis on the datasets, please follow the link below.\n",
    "\n",
    "1)  [Accessing public data with ONE](https://int-brain-lab.github.io/ONE/notebooks/one_quickstart.html)"
   ],
   "metadata": {
    "collapsed": false
   }
  },
  {
   "cell_type": "markdown",
   "source": [
    "## Installation\n",
    "### Environment\n",
    "To use IBL data you will need a python environment with python > 3.7. To create a new environment from scratch you can install [anaconda](https://www.anaconda.com/products/distribution#download-section) and follow the instructions below to create a new python environment (more information can also be found [here](https://docs.conda.io/projects/conda/en/latest/user-guide/tasks/manage-environments.html))\n",
    "\n",
    "```\n",
    "conda create --name ibl python=3.9\n",
    "```\n",
    "Make sure to always activate this environment before installing or working with the IBL data\n",
    "```\n",
    "conda activate ibl\n",
    "```\n",
    "\n",
    "### Install packages\n",
    "\n",
    "To use IBL data you will need to install the ONE-api package. We also recommend installing ibllib. These can be installed via pip.\n",
    "```python\n",
    "pip install ONE-api\n",
    "pip install ibllib\n",
    "```\n",
    "\n",
    "### Setting up credentials\n",
    "Credentials can be setup in a python terminal in the following way"
   ],
   "metadata": {
    "collapsed": false
   }
  },
  {
   "cell_type": "code",
   "execution_count": null,
   "outputs": [],
   "source": [
    "from one.api import ONE\n",
    "pw = 'international'\n",
    "one = ONE(base_url='https://openalyx.internationalbrainlab.org', password=pw, silent=True)"
   ],
   "metadata": {
    "collapsed": false,
    "pycharm": {
     "name": "#%%\n"
    }
   }
  },
  {
   "cell_type": "markdown",
   "source": [
    "## Getting Started\n",
    "\n",
    "### Exploring data\n",
    "To get a feel for the structure of the data we recommended first downloading the alf data for a single repeated site session and exploring how the data is stored locally on disk. An example alf folder can be downloaded from [here](https://ibl-brain-wide-map-public.s3.amazonaws.com/sample_data/mainenlab/Subjects/ZM_2241/2020-01-30/001/alf_ZM2241_2020-01-30_001.zip) or alternatively, we can use the ONE-api to search for sessions released as part of this paper and download the data this way.\n",
    "\n",
    "The sessions that contain data released as part of the reproducible ephys data paper can be found in the following way"
   ],
   "metadata": {
    "collapsed": false
   }
  },
  {
   "cell_type": "code",
   "execution_count": null,
   "outputs": [],
   "source": [
    "from one.api import ONE\n",
    "one = ONE(base_url='https://openalyx.internationalbrainlab.org')\n",
    "\n",
    "# Find sessions that have data and are tagged for the repeated site paper\n",
    "rep_site_sessions = one.alyx.rest('sessions', 'list', dataset_types='spikes.times', tag='2022_Q2_IBL_et_al_RepeatedSite')\n",
    "# Take the first session\n",
    "example_sess = rep_site_sessions[0]\n",
    "# Each session has a unique experiment id\n",
    "eid = example_sess['id']"
   ],
   "metadata": {
    "collapsed": false,
    "pycharm": {
     "name": "#%%\n"
    }
   }
  },
  {
   "cell_type": "markdown",
   "source": [
    "We can download all files in the **alf** collection"
   ],
   "metadata": {
    "collapsed": false
   }
  },
  {
   "cell_type": "code",
   "execution_count": null,
   "outputs": [],
   "source": [
    "# Download all data in alf collection\n",
    "files = one.load_collection(eid, 'alf', download_only=True)\n",
    "\n",
    "# Show where files have been downloaded to\n",
    "print(f'Files downloaded to {files[0].parent}')"
   ],
   "metadata": {
    "collapsed": false,
    "pycharm": {
     "name": "#%%\n"
    }
   }
  },
  {
   "cell_type": "markdown",
   "source": [
    "To download the spikesorting data we need to find out which probe label (probeXX above) was used for this session. This can be done by finding the probe insertion associated with this session"
   ],
   "metadata": {
    "collapsed": false
   }
  },
  {
   "cell_type": "code",
   "execution_count": null,
   "outputs": [],
   "source": [
    "insertion = one.alyx.rest('insertions', 'list', session=eid)[0]\n",
    "probe_label = insertion['name']\n",
    "files = one.load_collection(eid, f'alf/{probe_label}/pykilosort', download_only=True)\n",
    "\n",
    "# Show where files have been downloaded to\n",
    "print(f'Files downloaded to {files[0].parent}')"
   ],
   "metadata": {
    "collapsed": false,
    "pycharm": {
     "name": "#%%\n"
    }
   }
  },
  {
   "cell_type": "markdown",
   "source": [
    "To load in the data we can use some of the following loading methods"
   ],
   "metadata": {
    "collapsed": false
   }
  },
  {
   "cell_type": "code",
   "execution_count": null,
   "outputs": [],
   "source": [
    "# Load in all trials datasets\n",
    "trials = one.load_object(eid, 'trials', collection='alf')\n",
    "\n",
    "# Load in a single wheel dataset\n",
    "wheel_times = one.load_dataset(eid, '_ibl_wheel.timestamps.npy')"
   ],
   "metadata": {
    "collapsed": false,
    "pycharm": {
     "name": "#%%\n"
    }
   }
  },
  {
   "cell_type": "markdown",
   "source": [
    "### Loading different objects\n",
    "Examples for loading different objects can be found in the following tutorials [here](https://int-brain-lab.github.io/iblenv/loading_examples.html)"
   ],
   "metadata": {
    "collapsed": false
   }
  },
  {
   "cell_type": "markdown",
   "source": [
    "### More information on ONE\n",
    "To get a better understading of the ONE-api and the various methods available we recommend working through these tutorials"
   ],
   "metadata": {
    "collapsed": false
   }
  },
  {
   "cell_type": "markdown",
   "source": [
    "* [ONE quickstart](https://int-brain-lab.github.io/iblenv/notebooks_external/one_quickstart.html)\n",
    "* [Searching with ONE](https://int-brain-lab.github.io/ONE/notebooks/one_search/one_search.html)\n",
    "* [Listing with ONE](https://int-brain-lab.github.io/ONE/notebooks/one_list/one_list.html)\n",
    "* [Loading with ONE](https://int-brain-lab.github.io/ONE/notebooks/one_load/one_load.html)\n",
    "* [ONE alyx rest API](https://int-brain-lab.github.io/ONE/notebooks/one_advanced/one_advanced.html)(advanced)"
   ],
   "metadata": {
    "collapsed": false
   }
  },
  {
   "cell_type": "markdown",
   "source": [
    "## Advanced examples\n",
    "### Example 1: Searching for sessions from a specific lab\n",
    "\n",
    "If you want to use data associated to a given lab only, you could simply query for the whole dataset as shown above,\n",
    "and filter `rep_site_sessions` for the key \"lab\" of a given value, for example:"
   ],
   "metadata": {
    "collapsed": false
   }
  },
  {
   "cell_type": "code",
   "execution_count": null,
   "outputs": [],
   "source": [
    "lab_name = 'mrsicflogellab'\n",
    "sessions_lab = [item for item in rep_site_sessions if item['lab'] == lab_name]"
   ],
   "metadata": {
    "collapsed": false,
    "pycharm": {
     "name": "#%%\n"
    }
   }
  },
  {
   "cell_type": "markdown",
   "source": [
    "However, if you wanted to query only the data for a given lab, it might be most judicious to first\n",
    "know the list of all labs available, select an arbitrary lab name from it, and query the specific sessions from it.\n",
    "\n",
    "To get this list, use [one.alyx.rest](https://openalyx.internationalbrainlab.org/docs/#labs-list)"
   ],
   "metadata": {
    "collapsed": false
   }
  },
  {
   "cell_type": "code",
   "execution_count": null,
   "outputs": [],
   "source": [
    "# List of labs (and all metadata information associated)\n",
    "labs = one.alyx.rest('labs', 'list',\n",
    "                     django='session__data_dataset_session_related__tags__name,2022_Q2_IBL_et_al_RepeatedSite')\n",
    "# Note the change in the django filter compared to searching over 'sessions'\n",
    "\n",
    "# Example lab name\n",
    "lab_name = labs[0]['name']  # e.g. 'mrsicflogellab'\n",
    "\n",
    "# Searching for RS sessions with specific lab name\n",
    "sessions_lab = one.alyx.rest('sessions', 'list', dataset_types='spikes.times', lab=lab_name,\n",
    "                             tag='2022_Q2_IBL_et_al_RepeatedSite')"
   ],
   "metadata": {
    "collapsed": false,
    "pycharm": {
     "name": "#%%\n"
    }
   }
  },
  {
   "cell_type": "markdown",
   "source": [
    "## Information and troubleshooting\n",
    "- Issues with the data? Post an issue here: <https://github.com/int-brain-lab/iblenv/issues>\n",
    "- General questions about the dataset or paper  Email: <info@internationalbrainlab.org>"
   ],
   "metadata": {
    "collapsed": false
   }
  }
 ],
 "metadata": {
  "kernelspec": {
   "display_name": "Python 3",
   "language": "python",
   "name": "python3"
  },
  "language_info": {
   "codemirror_mode": {
    "name": "ipython",
    "version": 2
   },
   "file_extension": ".py",
   "mimetype": "text/x-python",
   "name": "python",
   "nbconvert_exporter": "python",
   "pygments_lexer": "ipython2",
   "version": "2.7.6"
  }
 },
 "nbformat": 4,
 "nbformat_minor": 0
}