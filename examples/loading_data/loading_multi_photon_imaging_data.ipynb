{
 "cells": [
  {
   "cell_type": "markdown",
   "source": [
    "# Loading Multi-photon Calcium Imaging Data\n",
    "\n",
    "Cellular Calcium activity recorded using a multi-photon imaging."
   ],
   "metadata": {
    "collapsed": false,
    "pycharm": {
     "name": "#%% md\n"
    }
   }
  },
  {
   "cell_type": "markdown",
   "source": [
    "## Relevant ALF objects\n",
    "* mpci\n",
    "* mpciROIs\n",
    "* mpciROITypes\n",
    "* mpciMeanImage\n",
    "* mpciStack\n",
    "\n",
    "## Finding sessions with imaging data"
   ],
   "metadata": {
    "collapsed": false
   }
  },
  {
   "cell_type": "code",
   "execution_count": null,
   "outputs": [],
   "source": [
    "# Find mesoscope imaging sessions in V1\n",
    "from one.api import ONE\n",
    "one = ONE()\n",
    "\n",
    "# atlas_id, atlas_name\n",
    "res = one.alyx.rest('sessions', 'list', procedures='Imaging', django='field_of_view__imaging_type__name,mesoscope')\n",
    "eids = one.search(procedures='Imaging', django='field_of_view__imaging_type__name,mesoscope', atlas_acronym='AIp6b')\n",
    "res = one.alyx.rest('fields-of-view', 'list', imaging_type='mesoscope', atlas_acronym='AIp6b')\n",
    "fov00  = one.load_collection(res[0]['session'], '*' + res[0]['name'])\n",
    "eid = 'a5550a8e-2484-4539-b7f0-8e5f829d0ba7'\n",
    "fovs = one.alyx.rest('fields-of-view', 'list', imaging_type='mesoscope', atlas_id=187, session=eid)\n",
    "\n",
    "# Search by layer\n",
    "# Only sessions with GCaMP mice\n",
    "# Only sessions with single plane / N planes\n",
    "JSON field = slice_id\n",
    "field = part_of_stack\n"
   ],
   "metadata": {
    "collapsed": false,
    "pycharm": {
     "name": "#%%\n"
    }
   }
  },
  {
   "cell_type": "markdown",
   "source": [
    "# List the number of fields of view (FOVs) recorded during a session"
   ],
   "metadata": {
    "collapsed": false
   }
  },
  {
   "cell_type": "code",
   "execution_count": null,
   "outputs": [],
   "source": [
    "from one.api import ONE\n",
    "one = ONE()\n",
    "eid = 'b1ca324f-5db7-4106-8be2-0dd9cce17648'\n",
    "\n",
    "fov_folders = one.list_collections(eid, collection='alf/FOV_*')\n",
    "fovs = sorted(map(lambda x: int(x[-2:]), fov_folders))\n",
    "nFOV = len(fovs)"
   ],
   "metadata": {
    "collapsed": false,
    "pycharm": {
     "name": "#%%\n"
    }
   }
  },
  {
   "cell_type": "markdown",
   "source": [
    "## Loading ROI activity for a single session"
   ],
   "metadata": {
    "collapsed": false
   }
  },
  {
   "cell_type": "code",
   "execution_count": null,
   "outputs": [],
   "source": [
    "# Loading ROI activity for a single FOV\n",
    "ROI_data_00 = one.load_collection(eid, 'alf/FOV_00', object=['mpci', 'mpciROI', 'mpciROITypes'])\n",
    "print(ROI_data_00.keys())\n",
    "\n",
    "# Loading ROI activity for all FOVs\n",
    "all_ROI_data = one.load_collection(eid, 'alf/FOV_*', object=['mpci', 'mpciROI', 'mpciROITypes'])\n",
    "print(all_ROI_data.keys())\n",
    "print(all_ROI_data.FOV_00.keys())"
   ],
   "metadata": {
    "collapsed": false,
    "pycharm": {
     "name": "#%%\n"
    }
   }
  },
  {
   "cell_type": "markdown",
   "source": [
    "## More details\n",
    "* [Description of mesoscope datasets](https://docs.google.com/document/d/1OqIqqakPakHXRAwceYLwFY9gOrm8_P62XIfCTnHwstg/edit#heading=h.nvzaz0fozs8h)\n",
    "* [Loading raw mesoscope data](./loading_raw_mesoscope_data.ipynb)"
   ],
   "metadata": {
    "collapsed": false,
    "pycharm": {
     "name": "#%% md\n"
    }
   }
  }
 ],
 "metadata": {
  "kernelspec": {
   "display_name": "Python 3",
   "language": "python",
   "name": "python3"
  },
  "language_info": {
   "codemirror_mode": {
    "name": "ipython",
    "version": 2
   },
   "file_extension": ".py",
   "mimetype": "text/x-python",
   "name": "python",
   "nbconvert_exporter": "python",
   "pygments_lexer": "ipython2",
   "version": "2.7.6"
  }
 },
 "nbformat": 4,
 "nbformat_minor": 0
}