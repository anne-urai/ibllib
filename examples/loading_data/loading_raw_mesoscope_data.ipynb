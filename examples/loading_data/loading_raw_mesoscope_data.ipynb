{
 "cells": [
  {
   "cell_type": "markdown",
   "metadata": {
    "collapsed": true,
    "pycharm": {
     "name": "#%% md\n"
    }
   },
   "source": [
    "# Loading Raw Mesoscope Imaging Data\n",
    "\n",
    "Cellular activity recorded using a 2 photon mesoscope.\n",
    "\n",
    "## Loading raw cell detection output\n",
    "\n",
    "Currently cell detection is done using [suite2p](https://suite2p.readthedocs.io/en/latest/).  You\n",
    "can load the raw output of suite2p for loading into their GUI:"
   ]
  },
  {
   "cell_type": "code",
   "execution_count": null,
   "outputs": [],
   "source": [
    "from one.api import ONE\n",
    "one = ONE()\n",
    "\n",
    "eid = 'b1ca324f-5db7-4106-8be2-0dd9cce17648'\n",
    "FOV = 0  # The field of view (FOV) to load\n",
    "suite2p_zip = one.load_dataset(eid, '*ROIData.raw', collection=f'alf/FOV_{FOV:02}')\n",
    "\n",
    "# Unarchive zip file\n",
    "import shutil\n",
    "dst_dir = suite2p_zip.parent.joinpath('suite2p_output')\n",
    "files = shutil.unpack_archive(suite2p_zip, dst_dir)\n",
    "\n",
    "# Run the suite2p GUI\n",
    "import suite2p.gui\n",
    "suite2p.gui.run(statfile=dst_dir / 'stat.npy')"
   ],
   "metadata": {
    "collapsed": false,
    "pycharm": {
     "name": "#%%\n"
    }
   }
  },
  {
   "cell_type": "code",
   "execution_count": null,
   "outputs": [],
   "source": [
    "# Downloading the raw images\n"
   ],
   "metadata": {
    "collapsed": false,
    "pycharm": {
     "name": "#%%\n"
    }
   }
  },
  {
   "cell_type": "markdown",
   "source": [
    "## More details\n",
    "* [Description of mesoscope datasets](https://docs.google.com/document/d/1OqIqqakPakHXRAwceYLwFY9gOrm8_P62XIfCTnHwstg/edit#heading=h.nvzaz0fozs8h)\n",
    "* [Loading multi-photon imaging data](./loading_multi_photon_imaging_data.ipynb)\n"
   ],
   "metadata": {
    "collapsed": false
   }
  }
 ],
 "metadata": {
  "kernelspec": {
   "display_name": "Python 3",
   "language": "python",
   "name": "python3"
  },
  "language_info": {
   "codemirror_mode": {
    "name": "ipython",
    "version": 2
   },
   "file_extension": ".py",
   "mimetype": "text/x-python",
   "name": "python",
   "nbconvert_exporter": "python",
   "pygments_lexer": "ipython2",
   "version": "2.7.6"
  }
 },
 "nbformat": 4,
 "nbformat_minor": 0
}