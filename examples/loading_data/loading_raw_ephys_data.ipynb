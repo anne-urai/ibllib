{
 "cells": [
  {
   "cell_type": "markdown",
   "id": "fffbc4ee",
   "metadata": {},
   "source": [
    "# Loading Raw Ephys Data (AP and LFP band)"
   ]
  },
  {
   "cell_type": "code",
   "execution_count": null,
   "id": "a6ec1974",
   "metadata": {
    "nbsphinx": "hidden"
   },
   "outputs": [],
   "source": [
    "# Turn off logging, this is a hidden cell on docs page\n",
    "import logging\n",
    "logger = logging.getLogger('ibllib')\n",
    "logger.setLevel(logging.CRITICAL)"
   ]
  },
  {
   "cell_type": "markdown",
   "id": "2de85fd2",
   "metadata": {},
   "source": [
    "Raw electrophysiology data recorded using spikeglx and compressed using mtscomp"
   ]
  },
  {
   "cell_type": "markdown",
   "id": "0bbad5e1",
   "metadata": {},
   "source": [
    "## Relevant datasets\n",
    "* \\_spikeglx_ephysData*.cbin\n",
    "* \\_spikeglx_ephysData*.meta\n",
    "* \\_spikeglx_ephysData*.ch"
   ]
  },
  {
   "cell_type": "markdown",
   "id": "bb97cb8f",
   "metadata": {},
   "source": [
    "## Loading"
   ]
  },
  {
   "cell_type": "markdown",
   "id": "b51ffc0f",
   "metadata": {},
   "source": [
    "### Option 1: Stream snippets of raw ephys data\n",
    "This is a useful option if you are interested to perform analysis on a chunk of data of smaller duration than the whole recording, as it will take less time to download. Data snippets can be loaded in chunks of 1-second, i.e. you can load at minimum 1 second of raw data, and any multiplier of such chunk length (for example 4 or 92 seconds)."
   ]
  },
  {
   "cell_type": "code",
   "execution_count": 2,
   "id": "68605764",
   "metadata": {},
   "outputs": [
    {
     "name": "stdout",
     "output_type": "stream",
     "text": [
      "Downloading: /Users/gaelle/Downloads/FlatIron/tmpt7sci3pv/cache.zip Bytes: 87351518\n"
     ]
    },
    {
     "name": "stderr",
     "output_type": "stream",
     "text": [
      "100%|██████████| 83.30489921569824/83.30489921569824 [00:04<00:00, 19.61it/s]\n"
     ]
    }
   ],
   "source": [
    "from one.api import ONE\n",
    "from brainbox.io.spikeglx import Streamer\n",
    "\n",
    "one = ONE()\n",
    "\n",
    "pid = 'da8dfec1-d265-44e8-84ce-6ae9c109b8bd'\n",
    "\n",
    "time0 = 100 # timepoint in recording to stream\n",
    "time_win = 1 # number of seconds to stream\n",
    "band = 'ap' # either 'ap' or 'lf'\n",
    "\n",
    "sr = Streamer(pid=pid, one=one, remove_cached=False, typ=band)\n",
    "s0 = time0 * sr.fs\n",
    "tsel = slice(int(s0), int(s0) + int(time_win * sr.fs))\n",
    "# remove sync channel from raw data\n",
    "raw = sr[tsel, :-sr.nsync].T"
   ]
  },
  {
   "cell_type": "markdown",
   "id": "eb72b4bb",
   "metadata": {},
   "source": [
    "### Option 2: Download all of raw ephys data"
   ]
  },
  {
   "cell_type": "markdown",
   "id": "3c5984dc",
   "metadata": {},
   "source": [
    "<div class=\"alert alert-warning\">\n",
    "Warning.\n",
    "\n",
    "The raw ephys data is very large and downloading will take a long period of time\n",
    "</div>"
   ]
  },
  {
   "cell_type": "code",
   "execution_count": null,
   "id": "60857f5f",
   "metadata": {
    "ibl_execute": false
   },
   "outputs": [],
   "source": [
    "from one.api import ONE\n",
    "import spikeglx\n",
    "one = ONE()\n",
    "\n",
    "pid = 'da8dfec1-d265-44e8-84ce-6ae9c109b8bd'\n",
    "eid, probe = one.pid2eid(pid)\n",
    "\n",
    "band = 'ap' # either 'ap','lf'\n",
    "\n",
    "# Find the relevant datasets and download\n",
    "dsets = one.list_datasets(eid, collection=f'raw_ephys_data/{probe}', filename=f'*{band}*', details=True)\n",
    "dset_paths = one._download_datasets(dsets)\n",
    "\n",
    "# Find the .bin file\n",
    "bin_file = next(dset_paths[0].parent.glob(f'*{band}.*bin'))\n",
    "\n",
    "# Use spikeglx reader to read in the whole raw data\n",
    "sr_all = spikeglx.Reader(bin_file)\n",
    "\n",
    "# remove sync channel from raw data\n",
    "raw_all = sr_all[:, :-sr.nsync].T"
   ]
  },
  {
   "cell_type": "markdown",
   "id": "0a8b24db",
   "metadata": {},
   "source": [
    "## More details\n",
    "* [Details of raw ap datasets](https://docs.google.com/document/d/1OqIqqakPakHXRAwceYLwFY9gOrm8_P62XIfCTnHwstg/edit#heading=h.ms0y69xbzova)\n",
    "* [Details of raw lfp datasets](https://docs.google.com/document/d/1OqIqqakPakHXRAwceYLwFY9gOrm8_P62XIfCTnHwstg/edit#heading=h.nct1c3j9tedk)\n",
    "* [Details of mtscomp compression algorithm](https://github.com/int-brain-lab/mtscomp#readme)\n",
    "* [Spikesorting white paper](https://figshare.com/articles/online_resource/Spike_sorting_pipeline_for_the_International_Brain_Laboratory/19705522)"
   ]
  },
  {
   "cell_type": "markdown",
   "id": "edd9d729",
   "metadata": {},
   "source": [
    "## Useful modules\n",
    "* [ibllib.io.spikeglx](https://int-brain-lab.github.io/ibl-neuropixel/_autosummary/spikeglx.html)\n",
    "* [ibllib.voltage.dsp](https://int-brain-lab.github.io/ibl-neuropixel/_autosummary/neurodsp.voltage.html)\n",
    "* [brainbox.io.spikeglx.stream](https://int-brain-lab.github.io/iblenv/_autosummary/brainbox.io.spikeglx.html#brainbox.io.spikeglx.stream)\n",
    "* [viewephys](https://github.com/oliche/viewephys) to visualise raw data snippets (Note: this package is not within `ibllib` but standalone)"
   ]
  },
  {
   "cell_type": "markdown",
   "id": "c828ea0e",
   "metadata": {},
   "source": [
    "## Exploring raw ephys data"
   ]
  },
  {
   "cell_type": "markdown",
   "id": "ddeefc5a",
   "metadata": {},
   "source": [
    "### Example 1: Destripe AP data\n",
    "This is very important to do prior to using the raw data, as it removes vertical artifacts (see our [Spikesorting white paper](https://figshare.com/articles/online_resource/Spike_sorting_pipeline_for_the_International_Brain_Laboratory/19705522) for details)."
   ]
  },
  {
   "cell_type": "code",
   "execution_count": 4,
   "id": "ab22d54d",
   "metadata": {},
   "outputs": [],
   "source": [
    "from neurodsp.voltage import destripe\n",
    "# Reminder : If not done before, remove first the sync channel from raw data\n",
    "# Apply destriping algorithm to data\n",
    "destriped = destripe(raw, fs=sr.fs)"
   ]
  },
  {
   "cell_type": "markdown",
   "source": [
    "To view and explore the raw ephys data, we recommend you use the [viewephys tool](https://github.com/oliche/viewephys). For the sake of this tutorial, we present the data pre and post destriping using `matplotlib`."
   ],
   "metadata": {
    "collapsed": false,
    "pycharm": {
     "name": "#%% md\n"
    }
   }
  },
  {
   "cell_type": "code",
   "execution_count": null,
   "outputs": [],
   "source": [],
   "metadata": {
    "collapsed": false,
    "pycharm": {
     "name": "#%%\n"
    }
   }
  },
  {
   "cell_type": "markdown",
   "id": "604bd9dc",
   "metadata": {},
   "source": [
    "### Example 2: Stream LFP data around task event\n",
    "The example downloads a 1-second snippet of raw LF data ; all that needs setting as parameters are the `time0` (the time of the even of interest), the `band` (LFP), and the duration `time_win` (1 second)."
   ]
  },
  {
   "cell_type": "code",
   "execution_count": null,
   "id": "591a1a8a",
   "metadata": {},
   "outputs": [
    {
     "ename": "NameError",
     "evalue": "name 'one' is not defined",
     "output_type": "error",
     "traceback": [
      "\u001B[0;31m---------------------------------------------------------------------------\u001B[0m",
      "\u001B[0;31mNameError\u001B[0m                                 Traceback (most recent call last)",
      "Input \u001B[0;32mIn [1]\u001B[0m, in \u001B[0;36m<cell line: 1>\u001B[0;34m()\u001B[0m\n\u001B[0;32m----> 1\u001B[0m eid, probe \u001B[38;5;241m=\u001B[39m \u001B[43mone\u001B[49m\u001B[38;5;241m.\u001B[39mpid2eid(pid)\n\u001B[1;32m      2\u001B[0m stimOn_times \u001B[38;5;241m=\u001B[39m one\u001B[38;5;241m.\u001B[39mload_object(eid, \u001B[38;5;124m'\u001B[39m\u001B[38;5;124mtrials\u001B[39m\u001B[38;5;124m'\u001B[39m, collection\u001B[38;5;241m=\u001B[39m\u001B[38;5;124m'\u001B[39m\u001B[38;5;124malf\u001B[39m\u001B[38;5;124m'\u001B[39m)[\u001B[38;5;124m'\u001B[39m\u001B[38;5;124mstimOn_times\u001B[39m\u001B[38;5;124m'\u001B[39m]\n\u001B[1;32m      3\u001B[0m event_no \u001B[38;5;241m=\u001B[39m \u001B[38;5;241m100\u001B[39m\n",
      "\u001B[0;31mNameError\u001B[0m: name 'one' is not defined"
     ]
    }
   ],
   "source": [
    "eid, probe = one.pid2eid(pid)\n",
    "stimOn_times = one.load_object(eid, 'trials', collection='alf')['stimOn_times']\n",
    "event_no = 100\n",
    "\n",
    "# Get the 1s of LFP data around time point of interest\n",
    "time0 = stimOn_times[event_no] # timepoint in recording to stream\n",
    "time_win = 1 # number of seconds to stream\n",
    "band = 'lf' # either 'ap' or 'lf'\n",
    "\n",
    "sr = Streamer(pid=pid, one=one, remove_cached=False, typ=band)\n",
    "s0 = time0 * sr.fs\n",
    "tsel = slice(int(s0), int(s0) + int(time_win * sr.fs))\n",
    "# remove sync channel from raw data\n",
    "raw = sr[tsel, :-sr.nsync].T\n",
    "# apply destriping algorithm to data\n",
    "destriped = destripe(raw, fs=sr.fs)"
   ]
  },
  {
   "cell_type": "markdown",
   "id": "9851b10d",
   "metadata": {
    "pycharm": {
     "name": "#%% md\n"
    }
   },
   "source": [
    "## Other relevant examples\n",
    "* COMING SOON"
   ]
  }
 ],
 "metadata": {
  "celltoolbar": "Edit Metadata",
  "kernelspec": {
   "display_name": "Python [conda env:iblenv] *",
   "language": "python",
   "name": "conda-env-iblenv-py"
  },
  "language_info": {
   "codemirror_mode": {
    "name": "ipython",
    "version": 3
   },
   "file_extension": ".py",
   "mimetype": "text/x-python",
   "name": "python",
   "nbconvert_exporter": "python",
   "pygments_lexer": "ipython3",
   "version": "3.9.7"
  }
 },
 "nbformat": 4,
 "nbformat_minor": 5
}